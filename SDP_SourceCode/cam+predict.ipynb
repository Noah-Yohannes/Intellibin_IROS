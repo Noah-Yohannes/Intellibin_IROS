{
 "cells": [
  {
   "cell_type": "code",
   "execution_count": 1,
   "id": "3ccdb669",
   "metadata": {},
   "outputs": [],
   "source": [
    "# Web streaming example\n",
    "# Source code from the official PiCamera package\n",
    "# http://picamera.readthedocs.io/en/latest/recipes2.html#web-streaming\n",
    "\n",
    "import io\n",
    "import picamera\n",
    "import logging\n",
    "import socketserver\n",
    "from threading import Condition\n",
    "from http import server\n",
    "\n",
    "PAGE=\"\"\"\\\n",
    "<html>\n",
    "<head>\n",
    "<title>Raspberry Pi - Surveillance Camera</title>\n",
    "</head>\n",
    "<body>\n",
    "<center>\n",
    "<h1 style = \"color:red\">\n",
    "    Raspberry Pi - Surveillance Camera - You're being watched :)\n",
    "</h1>\n",
    "</center>\n",
    "<center><img src=\"stream.mjpg\" width=\"640\" height=\"480\"></center>\n",
    "</body>\n",
    "</html>\n",
    "\"\"\"\n",
    "\n",
    "class StreamingOutput(object):\n",
    "    def __init__(self):\n",
    "        self.frame = None\n",
    "        self.buffer = io.BytesIO()\n",
    "        self.condition = Condition()\n",
    "\n",
    "    def write(self, buf):\n",
    "        if buf.startswith(b'\\xff\\xd8'):\n",
    "            # New frame, copy the existing buffer's content and notify all\n",
    "            # clients it's available\n",
    "            self.buffer.truncate()\n",
    "            with self.condition:\n",
    "                self.frame = self.buffer.getvalue()\n",
    "                self.condition.notify_all()\n",
    "            self.buffer.seek(0)\n",
    "        return self.buffer.write(buf)\n",
    "\n",
    "class StreamingHandler(server.BaseHTTPRequestHandler):\n",
    "    def do_GET(self):\n",
    "        if self.path == '/':\n",
    "            self.send_response(301)\n",
    "            self.send_header('Location', '/index.html')\n",
    "            self.end_headers()\n",
    "        elif self.path == '/index.html':\n",
    "            content = PAGE.encode('utf-8')\n",
    "            self.send_response(200)\n",
    "            self.send_header('Content-Type', 'text/html')\n",
    "            self.send_header('Content-Length', len(content))\n",
    "            self.end_headers()\n",
    "            self.wfile.write(content)\n",
    "        elif self.path == '/stream.mjpg':\n",
    "            self.send_response(200)\n",
    "            self.send_header('Age', 0)\n",
    "            self.send_header('Cache-Control', 'no-cache, private')\n",
    "            self.send_header('Pragma', 'no-cache')\n",
    "            self.send_header('Content-Type', 'multipart/x-mixed-replace; boundary=FRAME')\n",
    "            self.end_headers()\n",
    "            try:\n",
    "                while True:\n",
    "                    with output.condition:\n",
    "                        output.condition.wait()\n",
    "                        frame = output.frame\n",
    "                    self.wfile.write(b'--FRAME\\r\\n')\n",
    "                    self.send_header('Content-Type', 'image/jpeg')\n",
    "                    self.send_header('Content-Length', len(frame))\n",
    "                    self.end_headers()\n",
    "                    self.wfile.write(frame)\n",
    "                    self.wfile.write(b'\\r\\n')\n",
    "            except Exception as e:\n",
    "                logging.warning(\n",
    "                    'Removed streaming client %s: %s',\n",
    "                    self.client_address, str(e))\n",
    "        else:\n",
    "            self.send_error(404)\n",
    "            self.end_headers()\n",
    "\n",
    "class StreamingServer(socketserver.ThreadingMixIn, server.HTTPServer):\n",
    "    allow_reuse_address = True\n",
    "    daemon_threads = True"
   ]
  },
  {
   "cell_type": "code",
   "execution_count": null,
   "id": "95242657",
   "metadata": {},
   "outputs": [
    {
     "name": "stderr",
     "output_type": "stream",
     "text": [
      "10.10.179.181 - - [14/Feb/2023 15:39:06] \"GET /index.html HTTP/1.1\" 200 -\n",
      "10.10.179.181 - - [14/Feb/2023 15:39:06] \"GET /stream.mjpg HTTP/1.1\" 200 -\n",
      "WARNING:root:Removed streaming client ('10.10.179.181', 60194): [Errno 32] Broken pipe\n"
     ]
    }
   ],
   "source": [
    "with picamera.PiCamera(resolution='640x480', framerate=24) as camera:\n",
    "    output = StreamingOutput()\n",
    "    #Uncomment the next line to change your Pi's Camera rotation (in degrees)\n",
    "    #camera.rotation = 90\n",
    "    camera.start_recording(output, format='mjpeg')\n",
    "    try:\n",
    "        address = ('', 8000)\n",
    "        server = StreamingServer(address, StreamingHandler)\n",
    "        server.serve_forever()\n",
    "    finally:\n",
    "        camera.stop_recording()"
   ]
  },
  {
   "cell_type": "code",
   "execution_count": null,
   "id": "61b31083",
   "metadata": {},
   "outputs": [],
   "source": []
  }
 ],
 "metadata": {
  "kernelspec": {
   "display_name": "env",
   "language": "python",
   "name": "python3"
  },
  "language_info": {
   "codemirror_mode": {
    "name": "ipython",
    "version": 3
   },
   "file_extension": ".py",
   "mimetype": "text/x-python",
   "name": "python",
   "nbconvert_exporter": "python",
   "pygments_lexer": "ipython3",
   "version": "3.7.12 (default, Feb 11 2023, 20:05:22) \n[GCC 10.2.1 20210110]"
  },
  "vscode": {
   "interpreter": {
    "hash": "3406f6159f5eaa79345df16f32c435aea0d0e0c5496ab61da70ddb95fc6c0255"
   }
  }
 },
 "nbformat": 4,
 "nbformat_minor": 5
}
