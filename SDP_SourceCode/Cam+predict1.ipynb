{
 "cells": [
  {
   "cell_type": "code",
   "execution_count": null,
   "id": "ba6c70b9",
   "metadata": {},
   "outputs": [],
   "source": [
    "import picamera\n",
    "camera = picamera.PiCamera(resolution='224x224', framerate=24)\n",
    "\n",
    "camera.start_preview()\n",
    "camera.start_recording('video.h264')\n",
    "\n",
    "\n",
    "\n",
    "camera.stop_recording()\n",
    "camera.stop_preview()\n",
    "\n"
   ]
  },
  {
   "cell_type": "code",
   "execution_count": null,
   "id": "4f44579d",
   "metadata": {},
   "outputs": [],
   "source": []
  }
 ],
 "metadata": {
  "kernelspec": {
   "display_name": "Python 3 (ipykernel)",
   "language": "python",
   "name": "python3"
  },
  "language_info": {
   "codemirror_mode": {
    "name": "ipython",
    "version": 3
   },
   "file_extension": ".py",
   "mimetype": "text/x-python",
   "name": "python",
   "nbconvert_exporter": "python",
   "pygments_lexer": "ipython3",
   "version": "3.9.2"
  }
 },
 "nbformat": 4,
 "nbformat_minor": 5
}
